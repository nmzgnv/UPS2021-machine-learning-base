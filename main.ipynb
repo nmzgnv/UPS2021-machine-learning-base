{
 "cells": [
  {
   "cell_type": "markdown",
   "metadata": {},
   "source": [
    "# Python и машинное обучение\n",
    "*I уровень - базовый*"
   ]
  },
  {
   "cell_type": "code",
   "execution_count": 1,
   "metadata": {},
   "outputs": [],
   "source": [
    "import pandas as pd\n",
    "import numpy as np\n",
    "from matplotlib import pyplot as plt\n",
    "%matplotlib inline"
   ]
  },
  {
   "cell_type": "code",
   "execution_count": 2,
   "metadata": {},
   "outputs": [],
   "source": [
    "girls_data = pd.read_csv(\"Girls.csv\", encoding='Windows-1251', sep=';')\n",
    "girls_data.drop('ID', axis=1, inplace=True)\n",
    "\n",
    "boys_data = pd.read_csv(\"Boys.csv\", encoding='Windows-1251', sep=';', header=0)\n",
    "boys_data.drop('ID', axis=1, inplace=True)"
   ]
  },
  {
   "cell_type": "code",
   "execution_count": 3,
   "metadata": {},
   "outputs": [
    {
     "data": {
      "text/html": [
       "<div>\n",
       "<style scoped>\n",
       "    .dataframe tbody tr th:only-of-type {\n",
       "        vertical-align: middle;\n",
       "    }\n",
       "\n",
       "    .dataframe tbody tr th {\n",
       "        vertical-align: top;\n",
       "    }\n",
       "\n",
       "    .dataframe thead th {\n",
       "        text-align: right;\n",
       "    }\n",
       "</style>\n",
       "<table border=\"1\" class=\"dataframe\">\n",
       "  <thead>\n",
       "    <tr style=\"text-align: right;\">\n",
       "      <th></th>\n",
       "      <th>Name</th>\n",
       "      <th>NumberOfPersons</th>\n",
       "      <th>global_id</th>\n",
       "      <th>Year</th>\n",
       "      <th>Month</th>\n",
       "      <th>Unnamed: 6</th>\n",
       "    </tr>\n",
       "  </thead>\n",
       "  <tbody>\n",
       "    <tr>\n",
       "      <th>0</th>\n",
       "      <td>Мария</td>\n",
       "      <td>252</td>\n",
       "      <td>37750254</td>\n",
       "      <td>2015</td>\n",
       "      <td>январь</td>\n",
       "      <td>NaN</td>\n",
       "    </tr>\n",
       "    <tr>\n",
       "      <th>1</th>\n",
       "      <td>Анастасия</td>\n",
       "      <td>224</td>\n",
       "      <td>37750255</td>\n",
       "      <td>2015</td>\n",
       "      <td>январь</td>\n",
       "      <td>NaN</td>\n",
       "    </tr>\n",
       "    <tr>\n",
       "      <th>2</th>\n",
       "      <td>Анна</td>\n",
       "      <td>190</td>\n",
       "      <td>37750256</td>\n",
       "      <td>2015</td>\n",
       "      <td>январь</td>\n",
       "      <td>NaN</td>\n",
       "    </tr>\n",
       "  </tbody>\n",
       "</table>\n",
       "</div>"
      ],
      "text/plain": [
       "        Name NumberOfPersons global_id  Year   Month  Unnamed: 6\n",
       "0      Мария             252  37750254  2015  январь         NaN\n",
       "1  Анастасия             224  37750255  2015  январь         NaN\n",
       "2       Анна             190  37750256  2015  январь         NaN"
      ]
     },
     "execution_count": 3,
     "metadata": {},
     "output_type": "execute_result"
    }
   ],
   "source": [
    "girls_data.head(3)"
   ]
  },
  {
   "cell_type": "code",
   "execution_count": 4,
   "metadata": {},
   "outputs": [
    {
     "data": {
      "text/html": [
       "<div>\n",
       "<style scoped>\n",
       "    .dataframe tbody tr th:only-of-type {\n",
       "        vertical-align: middle;\n",
       "    }\n",
       "\n",
       "    .dataframe tbody tr th {\n",
       "        vertical-align: top;\n",
       "    }\n",
       "\n",
       "    .dataframe thead th {\n",
       "        text-align: right;\n",
       "    }\n",
       "</style>\n",
       "<table border=\"1\" class=\"dataframe\">\n",
       "  <thead>\n",
       "    <tr style=\"text-align: right;\">\n",
       "      <th></th>\n",
       "      <th>Name</th>\n",
       "      <th>NumberOfPersons</th>\n",
       "      <th>global_id</th>\n",
       "      <th>Year</th>\n",
       "      <th>Month</th>\n",
       "      <th>Unnamed: 6</th>\n",
       "    </tr>\n",
       "  </thead>\n",
       "  <tbody>\n",
       "    <tr>\n",
       "      <th>0</th>\n",
       "      <td>Александр</td>\n",
       "      <td>253</td>\n",
       "      <td>37750243</td>\n",
       "      <td>2015</td>\n",
       "      <td>январь</td>\n",
       "      <td>NaN</td>\n",
       "    </tr>\n",
       "    <tr>\n",
       "      <th>1</th>\n",
       "      <td>Михаил</td>\n",
       "      <td>247</td>\n",
       "      <td>37750244</td>\n",
       "      <td>2015</td>\n",
       "      <td>январь</td>\n",
       "      <td>NaN</td>\n",
       "    </tr>\n",
       "    <tr>\n",
       "      <th>2</th>\n",
       "      <td>Иван</td>\n",
       "      <td>226</td>\n",
       "      <td>37750245</td>\n",
       "      <td>2015</td>\n",
       "      <td>январь</td>\n",
       "      <td>NaN</td>\n",
       "    </tr>\n",
       "  </tbody>\n",
       "</table>\n",
       "</div>"
      ],
      "text/plain": [
       "        Name NumberOfPersons global_id  Year   Month  Unnamed: 6\n",
       "0  Александр             253  37750243  2015  январь         NaN\n",
       "1     Михаил             247  37750244  2015  январь         NaN\n",
       "2       Иван             226  37750245  2015  январь         NaN"
      ]
     },
     "execution_count": 4,
     "metadata": {},
     "output_type": "execute_result"
    }
   ],
   "source": [
    "boys_data.head(3)"
   ]
  },
  {
   "cell_type": "code",
   "execution_count": 5,
   "metadata": {},
   "outputs": [],
   "source": [
    "from collections import Counter\n",
    "\n",
    "def get_names_last_letters(names, letter_num=2):\n",
    "    name_variants = []\n",
    "\n",
    "    for name in names:\n",
    "        if name == 'Name':\n",
    "            continue\n",
    "        if ',' in name:\n",
    "            name_variants += list(map(lambda x: str(x).rstrip(), name.split(', ')))\n",
    "            continue\n",
    "        name_variants.append(name.lower())\n",
    "        \n",
    "    last_letters = list(map(lambda x: x[-letter_num:] , name_variants))\n",
    "    last_letters_freequency = dict(Counter(last_letters))\n",
    "    return last_letters_freequency"
   ]
  },
  {
   "cell_type": "markdown",
   "metadata": {},
   "source": [
    "Посмотрим на самые частые окончания в мужских именах"
   ]
  },
  {
   "cell_type": "code",
   "execution_count": 6,
   "metadata": {},
   "outputs": [
    {
     "data": {
      "text/plain": [
       "<BarContainer object of 62 artists>"
      ]
     },
     "execution_count": 6,
     "metadata": {},
     "output_type": "execute_result"
    },
    {
     "data": {
      "image/png": "[encoded data removed]",
      "text/plain": [
       "<Figure size 1440x720 with 1 Axes>"
      ]
     },
     "metadata": {
      "needs_background": "light"
     },
     "output_type": "display_data"
    }
   ],
   "source": [
    "boys_names_last_letters = get_names_last_letters(boys_data['Name'], letter_num=2)\n",
    "plt.figure(figsize=(20,10))\n",
    "plt.bar(boys_names_last_letters.keys(), boys_names_last_letters.values(), width=1)"
   ]
  },
  {
   "cell_type": "markdown",
   "metadata": {},
   "source": [
    "Повторим для женских имен"
   ]
  },
  {
   "cell_type": "code",
   "execution_count": 7,
   "metadata": {},
   "outputs": [
    {
     "data": {
      "text/plain": [
       "<BarContainer object of 37 artists>"
      ]
     },
     "execution_count": 7,
     "metadata": {},
     "output_type": "execute_result"
    },
    {
     "data": {
      "image/png": "[encoded data removed]",
      "text/plain": [
       "<Figure size 1440x720 with 1 Axes>"
      ]
     },
     "metadata": {
      "needs_background": "light"
     },
     "output_type": "display_data"
    }
   ],
   "source": [
    "girls_names_last_letters = get_names_last_letters(girls_data['Name'], letter_num=2)\n",
    "\n",
    "plt.figure(figsize=(20,10))\n",
    "plt.bar(girls_names_last_letters.keys(), girls_names_last_letters.values(), color='red')"
   ]
  },
  {
   "cell_type": "markdown",
   "metadata": {},
   "source": [
    "у мужчин разнообразие окончаний имен было больше :)"
   ]
  },
  {
   "cell_type": "markdown",
   "metadata": {},
   "source": [
    "Изменив количество последних букв имен (letter_num функции get_names_last_letters), пришел к выводу, что **определять пол по 2 последним буквам имени оптимально**"
   ]
  },
  {
   "cell_type": "code",
   "execution_count": 8,
   "metadata": {},
   "outputs": [
    {
     "data": {
      "text/plain": [
       "(37, 62)"
      ]
     },
     "execution_count": 8,
     "metadata": {},
     "output_type": "execute_result"
    }
   ],
   "source": [
    "len(girls_names_last_letters), len(boys_names_last_letters)"
   ]
  },
  {
   "cell_type": "code",
   "execution_count": 9,
   "metadata": {},
   "outputs": [],
   "source": [
    "class LastNameLetters:\n",
    "    def __init__(self, is_male, letters, freequency):\n",
    "        self.is_male = is_male\n",
    "        self.letters = letters\n",
    "        self.freequency = freequency\n",
    "    \n",
    "    def __repr__(self):\n",
    "        return 'Male' if self.is_male else 'Female'"
   ]
  },
  {
   "cell_type": "code",
   "execution_count": 10,
   "metadata": {},
   "outputs": [],
   "source": [
    "is_male_by_last_symbols = {}\n",
    "\n",
    "for letters, freequency in girls_names_last_letters.items():\n",
    "    is_male_by_last_symbols[letters] = LastNameLetters(False, letters, freequency)\n",
    "\n",
    "appended_word_endings = is_male_by_last_symbols.keys()\n",
    "\n",
    "for letters, freequency in boys_names_last_letters.items():\n",
    "    nameLetters = LastNameLetters(True, letters, freequency)\n",
    "    \n",
    "    if letters in appended_word_endings:\n",
    "        if is_male_by_last_symbols[letters].freequency <= freequency:\n",
    "            is_male_by_last_symbols[letters] = nameLetters\n",
    "        continue\n",
    "        \n",
    "    is_male_by_last_symbols[letters] = LastNameLetters(True, letters, freequency)"
   ]
  },
  {
   "cell_type": "code",
   "execution_count": 17,
   "metadata": {},
   "outputs": [],
   "source": [
    "def is_male(name):\n",
    "    letters = name[-2:].lower()\n",
    "    assert letters in is_male_by_last_symbols.keys(), f'Letters {letters} not found in dataset'\n",
    "    return is_male_by_last_symbols[letters].is_male"
   ]
  },
  {
   "cell_type": "code",
   "execution_count": 13,
   "metadata": {},
   "outputs": [
    {
     "name": "stdout",
     "output_type": "stream",
     "text": [
      "\n",
      " 0.05\n"
     ]
    }
   ],
   "source": [
    "error = 0\n",
    "\n",
    "for name in set(girls_data['Name']):\n",
    "    if name != 'Name' and is_male(name):\n",
    "        error += 1\n",
    "        \n",
    "for name in set(boys_data['Name']):\n",
    "    if name != 'Name' and not is_male(name):\n",
    "        error += 1\n",
    "        \n",
    "print('\\n', round(error / (len(set(boys_data['Name']))+len(set(girls_data['Name']))), 2))"
   ]
  },
  {
   "cell_type": "markdown",
   "metadata": {},
   "source": [
    "Ошибка определения пола по 2 последним буквам имени довольно низкая.   \n",
    "Если мы будем определять пол по 3 буквам, то ошибка **незначительно** упадет.    \n",
    "Я считаю, что используя 3 последние буквы, мы **переобучаемся** и не сможем распозновать пол правильно у новых, необычных имен.  \n",
    "Ведь у обычных имен пол определяется по двум последним буквам: Васил**ий**, Никол**ай**, Евген**ия**, Ма**ша** и т.д."
   ]
  },
  {
   "cell_type": "code",
   "execution_count": 14,
   "metadata": {},
   "outputs": [],
   "source": [
    "def appeal_pick_up(name):\n",
    "    return \"{} {}\".format('Уважаемый' if is_male(name) else 'Уважаемая', name)"
   ]
  },
  {
   "cell_type": "code",
   "execution_count": 16,
   "metadata": {},
   "outputs": [
    {
     "data": {
      "text/plain": [
       "'Уважаемая Мария'"
      ]
     },
     "execution_count": 16,
     "metadata": {},
     "output_type": "execute_result"
    }
   ],
   "source": [
    "appeal_pick_up('Мария')"
   ]
  }
 ],
 "metadata": {
  "kernelspec": {
   "display_name": "Python 3",
   "language": "python",
   "name": "python3"
  },
  "language_info": {
   "codemirror_mode": {
    "name": "ipython",
    "version": 3
   },
   "file_extension": ".py",
   "mimetype": "text/x-python",
   "name": "python",
   "nbconvert_exporter": "python",
   "pygments_lexer": "ipython3",
   "version": "3.8.3"
  }
 },
 "nbformat": 4,
 "nbformat_minor": 4
}
